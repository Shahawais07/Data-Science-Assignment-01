{
 "cells": [
  {
   "cell_type": "markdown",
   "id": "34db5605",
   "metadata": {},
   "source": [
    "Assignment of Data Science "
   ]
  },
  {
   "cell_type": "markdown",
   "id": "dbe1e35f",
   "metadata": {},
   "source": [
    "#Submitted by Shah Awais\n"
   ]
  },
  {
   "cell_type": "markdown",
   "id": "003101d6",
   "metadata": {},
   "source": [
    "Q1: Write a python program to print the string in a specific format as given in assignment pdf."
   ]
  },
  {
   "cell_type": "code",
   "execution_count": 1,
   "id": "21c8f524",
   "metadata": {},
   "outputs": [
    {
     "name": "stdout",
     "output_type": "stream",
     "text": [
      "Twinkle, twinkle, little star, \n",
      "\tHow I wonder what you are! \n",
      "\t\tUp above the world so high, \n",
      "\t\tLike a diamond in the sky. \n",
      "Twinkle, twinkle, little star, \n",
      "\tHow I wonder what you are!\n"
     ]
    }
   ],
   "source": [
    "print(\"Twinkle, twinkle, little star, \\n\\tHow I wonder what you are! \\n\\t\\tUp above the world so high, \\n\\t\\tLike a diamond in the sky. \\nTwinkle, twinkle, little star, \\n\\tHow I wonder what you are!\")"
   ]
  },
  {
   "cell_type": "markdown",
   "id": "c296e8a2",
   "metadata": {},
   "source": [
    "Q2: Write a python program to get the python version you are using."
   ]
  },
  {
   "cell_type": "code",
   "execution_count": 2,
   "id": "74790681",
   "metadata": {},
   "outputs": [
    {
     "name": "stdout",
     "output_type": "stream",
     "text": [
      "3.9.7\n"
     ]
    }
   ],
   "source": [
    "from platform import python_version\n",
    "print(python_version())"
   ]
  },
  {
   "cell_type": "markdown",
   "id": "5ffcacb0",
   "metadata": {},
   "source": [
    "Q3: Write a python program to display the current date and time."
   ]
  },
  {
   "cell_type": "code",
   "execution_count": 3,
   "id": "900f8406",
   "metadata": {},
   "outputs": [
    {
     "name": "stdout",
     "output_type": "stream",
     "text": [
      "2022-01-01 13:42:34.938764\n"
     ]
    }
   ],
   "source": [
    "from datetime import datetime\n",
    "now = datetime.now()\n",
    "print(now)"
   ]
  },
  {
   "cell_type": "markdown",
   "id": "ca8358df",
   "metadata": {},
   "source": [
    "Q4: Write a python program which accepts the radius of a circle from the user and compute the area.\n"
   ]
  },
  {
   "cell_type": "code",
   "execution_count": 5,
   "id": "21db1d28",
   "metadata": {},
   "outputs": [
    {
     "name": "stdout",
     "output_type": "stream",
     "text": [
      "Enter radius: 5\n",
      "Area of the circle with given radius 5 is 78.53981633974483\n"
     ]
    }
   ],
   "source": [
    "# Area of a circle = pi * r^2\n",
    "import math\n",
    "radius = int(input(\"Enter radius: \"))\n",
    "Area = math.pi * (radius**2)\n",
    "print(\"Area of the circle with given radius {} is {}\".format(radius,Area))"
   ]
  },
  {
   "cell_type": "markdown",
   "id": "5fc75b43",
   "metadata": {},
   "source": [
    "Q5: Write a python program which accepts the user's first and last name and print them in reverse order with space between them."
   ]
  },
  {
   "cell_type": "code",
   "execution_count": 6,
   "id": "76929f65",
   "metadata": {},
   "outputs": [
    {
     "name": "stdout",
     "output_type": "stream",
     "text": [
      "What's your first name? Shah\n",
      "What's your last name? Awais\n",
      "Welcome Awais Shah\n"
     ]
    }
   ],
   "source": [
    "first_name = input(\"What's your first name? \")\n",
    "last_name = input(\"What's your last name? \")\n",
    "print(\"Welcome {} {}\".format(last_name,first_name))"
   ]
  },
  {
   "cell_type": "markdown",
   "id": "82b7ad9b",
   "metadata": {},
   "source": [
    "Q6: Write a python program which takes two inputs from user and print their addition."
   ]
  },
  {
   "cell_type": "code",
   "execution_count": 7,
   "id": "934b0623",
   "metadata": {},
   "outputs": [
    {
     "name": "stdout",
     "output_type": "stream",
     "text": [
      "Enter first number: 23\n",
      "Enter second number: 25\n",
      "Sum of 23 and 25 is 48.\n"
     ]
    }
   ],
   "source": [
    "num1 = int(input(\"Enter first number: \"))\n",
    "num2 = int(input(\"Enter second number: \"))\n",
    "result = num1 + num2\n",
    "print(\"Sum of {} and {} is {}.\".format(num1,num2,result))"
   ]
  },
  {
   "cell_type": "code",
   "execution_count": null,
   "id": "34119999",
   "metadata": {},
   "outputs": [],
   "source": []
  }
 ],
 "metadata": {
  "kernelspec": {
   "display_name": "Python 3 (ipykernel)",
   "language": "python",
   "name": "python3"
  },
  "language_info": {
   "codemirror_mode": {
    "name": "ipython",
    "version": 3
   },
   "file_extension": ".py",
   "mimetype": "text/x-python",
   "name": "python",
   "nbconvert_exporter": "python",
   "pygments_lexer": "ipython3",
   "version": "3.9.7"
  }
 },
 "nbformat": 4,
 "nbformat_minor": 5
}
